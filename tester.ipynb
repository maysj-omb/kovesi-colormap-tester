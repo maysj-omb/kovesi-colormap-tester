{
 "cells": [
  {
   "cell_type": "markdown",
   "metadata": {},
   "source": [
    "# Tester Notebook:\n",
    "\n",
    "John Mays | maysj at-symbol omb dot nyc dot gov | Policy & Operations Research @ OMB | Created: 06/14/24 | Last Updated: 06/14/24\n",
    "\n",
    "\\[Explanation goes here\\]\n"
   ]
  },
  {
   "cell_type": "code",
   "execution_count": 14,
   "metadata": {},
   "outputs": [],
   "source": [
    "import numpy as np\n",
    "import matplotlib.pyplot as plt\n",
    "from mpl_toolkits.axes_grid1 import Size, Divider"
   ]
  },
  {
   "cell_type": "code",
   "execution_count": 10,
   "metadata": {},
   "outputs": [],
   "source": [
    "# printed image parameters:\n",
    "display_width = 3 + 1/2 # inches\n",
    "display_height = 7/8 # inches\n",
    "resolution = 250 # pixels per inch\n",
    "\n",
    "# image creation parameters\n",
    "freq = 50\n",
    "image_width = int(resolution * display_width)\n",
    "image_height = int(resolution * display_height)"
   ]
  },
  {
   "cell_type": "code",
   "execution_count": 11,
   "metadata": {},
   "outputs": [],
   "source": [
    "image = np.zeros(shape=(image_height, image_width))"
   ]
  },
  {
   "cell_type": "code",
   "execution_count": 18,
   "metadata": {},
   "outputs": [
    {
     "data": {
      "image/png": "[encoded data removed]",
      "text/plain": [
       "<Figure size 187.5x450 with 1 Axes>"
      ]
     },
     "metadata": {},
     "output_type": "display_data"
    }
   ],
   "source": [
    "with plt.rc_context():\n",
    "    fig = plt.figure(figsize=(display_height+1, display_width+1), )\n",
    "    horizontal = [Size.Fixed(0.5), Size.Fixed(display_width-0.5)]\n",
    "    vertical = [Size.Fixed(0.5), Size.Fixed(display_height-0.5)]\n",
    "    divider = Divider(fig, (0, 0, 1, 1), horizontal, vertical, aspect=False)\n",
    "\n",
    "    axes = fig.add_axes(divider.get_position(),\n",
    "                    axes_locator=divider.new_locator(nx=1, ny=1))\n",
    "    axes.plot([1,2,3])"
   ]
  },
  {
   "cell_type": "code",
   "execution_count": null,
   "metadata": {},
   "outputs": [],
   "source": []
  }
 ],
 "metadata": {
  "kernelspec": {
   "display_name": ".venv",
   "language": "python",
   "name": "python3"
  },
  "language_info": {
   "codemirror_mode": {
    "name": "ipython",
    "version": 3
   },
   "file_extension": ".py",
   "mimetype": "text/x-python",
   "name": "python",
   "nbconvert_exporter": "python",
   "pygments_lexer": "ipython3",
   "version": "3.8.9"
  }
 },
 "nbformat": 4,
 "nbformat_minor": 2
}
